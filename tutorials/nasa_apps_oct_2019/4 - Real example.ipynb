{
 "cells": [
  {
   "cell_type": "markdown",
   "metadata": {},
   "source": [
    "# Writing an application: Identifying a coast line.\n",
    "\n",
    "NOTE: This example is highly contrived and for pedagogical use only, please do not identify coastlines like this in practice, consult with a domain expert :)\n",
    "\n",
    "\n",
    "## Introduction\n",
    "Satellite imagery has been obtained of \"Guernsey\", the channel island, and surrounding smaller islands.\n",
    "\n",
    "The task is to develop an image processing pipeline using the Numba compiler to speed up the detection of the edges of the islands and compute an estimate for the length of the coast line. A lot of the work needed to do this has been done already and the idea here is to explore writing functions and piecing them together to build up a small application."
   ]
  },
  {
   "cell_type": "code",
   "execution_count": null,
   "metadata": {},
   "outputs": [],
   "source": [
    "import imageio\n",
    "import numpy as np\n",
    "import matplotlib.pyplot as plt"
   ]
  },
  {
   "cell_type": "markdown",
   "metadata": {},
   "source": [
    "#### LICENSING NOTE:\n",
    "\n",
    "**Attribution:** The image `Guernsey.png` has the following attribution:\n",
    "[\"Guernsey by Sentinel-2.jpg\"](https://en.wikipedia.org/wiki/File:Guernsey_by_Sentinel-2.jpg) by user `\"Satview\"`, original author `\"Copernicus Sentinel-2, ESA\"`, used under [CC BY-SA 3.0 IGO](https://creativecommons.org/licenses/by-sa/3.0/igo/deed.en) / Made smaller and changed format from original."
   ]
  },
  {
   "cell_type": "code",
   "execution_count": null,
   "metadata": {},
   "outputs": [],
   "source": [
    "fname = \"Guernsey.png\"\n",
    "imdata = imageio.imread(fname)\n",
    "plt.imshow(imdata)"
   ]
  },
  {
   "cell_type": "markdown",
   "metadata": {},
   "source": [
    "<h3><span style=\"color:blue\"> Task 1: Write a blurring function</span></h3>\n",
    "\n",
    "Write a blurring function, perhaps average of left, right, above and below cells to start with?\n",
    "More advanced blurs are of course available e.g. [see this in the Numba examples](https://github.com/numba/numba/blob/master/examples/gaussian-blur/gaussian-blur.py#L22-L28) if you want to upgrade later. Here's a stencil to help:\n",
    "\n",
    "```\n",
    "            [0, +1]\n",
    "               |\n",
    "               |\n",
    " [-1, 0] -- [0, 0] -- [0, +1]\n",
    "               |\n",
    "               |\n",
    "            [0, -1]\n",
    "```"
   ]
  },
  {
   "cell_type": "code",
   "execution_count": null,
   "metadata": {},
   "outputs": [],
   "source": [
    "from numba import stencil\n",
    "\n",
    "@stencil\n",
    "def my_blur(img):\n",
    "     # return uint8, this is an image!\n",
    "    return np.uint8(# You write this!)"
   ]
  },
  {
   "cell_type": "markdown",
   "metadata": {},
   "source": [
    "The next cell contains a few functions to get started, there's plenty of scope to optimise these!"
   ]
  },
  {
   "cell_type": "code",
   "execution_count": null,
   "metadata": {},
   "outputs": [],
   "source": [
    "from numba import njit, types, objmode, stencil, vectorize\n",
    "from numba.typed import List\n",
    "\n",
    "@njit\n",
    "def import_image(name):\n",
    "    \"\"\"\n",
    "    Imports an image with the given name.\n",
    "    Returns a N*M*3 uint8 array.\n",
    "    \"\"\"\n",
    "    # use \"objmode\" context manager, jump back into the python interpreter for the context\n",
    "    # managed block: http://numba.pydata.org/numba-doc/latest/user/withobjmode.html\n",
    "    with objmode(ret=\"uint8[:,:,:]\"):\n",
    "        ret = imageio.imread(name)\n",
    "    return ret.copy()\n",
    "\n",
    "@njit\n",
    "def channel_select(img, channel):\n",
    "    \"\"\"\n",
    "    Returns the channel \"channel\" from the image \"img\"\n",
    "    \"\"\"\n",
    "    return img[:, :, channel]\n",
    "\n",
    "@njit\n",
    "def channel_combine(ch0, ch1, ch2):\n",
    "    \"\"\"\n",
    "    Combines three channels into a single image representation.\n",
    "    \"\"\"\n",
    "    shape = ch0.shape + (3,)\n",
    "    out = np.empty(shape, ch0.dtype)\n",
    "    out[:, :, 0] = ch0\n",
    "    out[:, :, 1] = ch1\n",
    "    out[:, :, 2] = ch2\n",
    "    return out\n",
    "\n",
    "@njit\n",
    "def compress(img, pc):\n",
    "    \"\"\"\n",
    "    Compress the image \"img\" via SVD, \"pc\" a percentage as a decimal in the range 0 <= pc <=1\n",
    "    to express the amount of components to keep.\n",
    "    \"\"\"\n",
    "    u, sv, vt = np.linalg.svd(img.astype(np.float64))\n",
    "    s = np.zeros((u.shape[1], vt.shape[0]))\n",
    "    n = int(pc * len(sv))\n",
    "    for i in range(n): # loops are cheap!\n",
    "        s[i, i] = sv[i]\n",
    "    return np.dot(np.dot(u, s), vt).astype(np.uint8)\n",
    "\n",
    "@njit\n",
    "def sobel(img):\n",
    "    \"\"\"\n",
    "    A Sobel filter, good for detecting edges!\n",
    "    Implementation based on https://en.wikipedia.org/wiki/Sobel_operator#Pseudocode_implementation\n",
    "    \"\"\"\n",
    "    Gx = np.array([-1, 0, 1, -2, 0, 2, -1, 0, 1]).reshape((3, 3))\n",
    "    Gy = np.array([-1, -2, -1, 0, 0, 0, 1, 2, 1]).reshape((3, 3))\n",
    "    r, c = img.shape\n",
    "    threshold = 70\n",
    "    mag = np.zeros_like(img)\n",
    "    for i in range(0, r - 2):\n",
    "        for j in range(0, c - 2):\n",
    "            box = img[i:i + 3, j:j + 3]\n",
    "            S1 = np.sum(Gx * box)\n",
    "            S2 = np.sum(Gy * box)\n",
    "            sz = np.sqrt(S1 ** 2 + S2 ** 2)\n",
    "            if sz < threshold:\n",
    "                mag[i + 1, j + 1] = 255\n",
    "    return mag\n",
    "\n",
    "\n",
    "@njit\n",
    "def to_grey_scale(R, G, B):\n",
    "    \"\"\"\n",
    "    Combines R,G,B components to grey-scale.\n",
    "    Luma model: https://en.wikipedia.org/wiki/Luma_(video)\n",
    "    \"\"\"\n",
    "    return (0.2126 * R + 0.7152 * G + 0.0722 * B).astype(np.uint8)"
   ]
  },
  {
   "cell_type": "markdown",
   "metadata": {},
   "source": [
    "<h3><span style=\"color:blue\"> Task 2: Build an image processing pipeline</span></h3>\n",
    "\n",
    "Using the functions above, and including your own (you might want to write a cropping function!?!), build a processing pipeline."
   ]
  },
  {
   "cell_type": "code",
   "execution_count": null,
   "metadata": {},
   "outputs": [],
   "source": [
    "# Perhaps write a cropping function here once you have a pipeline working?!"
   ]
  },
  {
   "cell_type": "code",
   "execution_count": null,
   "metadata": {},
   "outputs": [],
   "source": [
    "# DIY pipeline\n",
    "@njit\n",
    "def pipeline(fname):\n",
    "    \"\"\"\n",
    "    Processes the image with name specified by \"fname\"\n",
    "    \"\"\"\n",
    "    # import the image with name, fname\n",
    "    image = import_image(fname)\n",
    "    # loop over channels doing any operations you like\n",
    "    l = []\n",
    "    for ch in range(3):\n",
    "        im = channel_select(image, ch)\n",
    "        # perhaps start with your blur? then try some other things?\n",
    "        # - blurring averages out the features\n",
    "        # - compression can be used to find the stronger features\n",
    "        # - the sobel filter is good for edge detection\n",
    "\n",
    "        im = # Call your blur function !\n",
    "        \n",
    "        # store\n",
    "        l.append(im)\n",
    "        \n",
    "    # recombine to grey-scale\n",
    "    combined = to_grey_scale(l[0], l[1], l[2])\n",
    "    return crop(combined, 0.05, 0.05, 0.05, 0.05)\n",
    "\n",
    "# run the pipeline and take a look!\n",
    "out = pipeline(\"Guernsey.png\")\n",
    "plt.imshow(out, cmap='gray', vmin=0, vmax=255)"
   ]
  },
  {
   "cell_type": "markdown",
   "metadata": {},
   "source": [
    "<h3><span style=\"color:blue\"> Task 3: Count the pixels!</span></h3>\n",
    "\n",
    "Write a function to count the number of values above a threshold value, use an explicit parallel `prange` loop.\n"
   ]
  },
  {
   "cell_type": "code",
   "execution_count": null,
   "metadata": {},
   "outputs": [],
   "source": [
    "from numba import prange\n",
    "\n",
    "@njit(parallel=True)\n",
    "def coast_line_length(processed_image, threshold=0):\n",
    "    r, c = processed_image.shape\n",
    "    total = 0\n",
    "    # You write this!\n",
    "    return total\n",
    "\n",
    "coast_line_length(out, 100)"
   ]
  }
 ],
 "metadata": {
  "kernelspec": {
   "display_name": "Python 3",
   "language": "python",
   "name": "python3"
  },
  "language_info": {
   "codemirror_mode": {
    "name": "ipython",
    "version": 3
   },
   "file_extension": ".py",
   "mimetype": "text/x-python",
   "name": "python",
   "nbconvert_exporter": "python",
   "pygments_lexer": "ipython3",
   "version": "3.7.4"
  }
 },
 "nbformat": 4,
 "nbformat_minor": 2
}
