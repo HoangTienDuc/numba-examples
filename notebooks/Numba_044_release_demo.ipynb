{
 "cells": [
  {
   "cell_type": "markdown",
   "metadata": {},
   "source": [
    "Numba 0.44.0 Release Demo\n",
    "=======================\n",
    "\n",
    "This notebook contains a demonstration of new features present in the 0.44.0 release of Numba. Whilst release notes are produced as part of the [`CHANGE_LOG`](https://github.com/numba/numba/blob/5bffb209e853dc21a44a5bd801c93672404f1fe8/CHANGE_LOG), there's nothing like seeing code in action!\n",
    "\n",
    "_____\n",
    "**🔥IMPORTANT: Numba is officially deprecating some features and behaviours in this release!🔥**\n",
    "\n",
    "More information about this is given below.\n",
    "_____\n",
    "\n",
    "It is also worth noting that this release of Numba is now backed by LLVM 8 on all platforms except `ppc64le` (due to numerous issues present solely on that platform). As a result of the `ppc64le` issues, LLVM 7.0.x and 7.1.x are also still supported on all platforms. This release also fully accommodates new and changed functionality required to be compatible with NumPy 1.16.\n",
    " \n",
    "Also included are demonstrations of:\n",
    "* Type inferred dictionaries\n",
    "* New unicode features\n",
    "* Newly supported NumPy functions\n",
    "* A few new miscellaneous features!\n",
    "\n",
    "First, import the necessary from Numba and NumPy..."
   ]
  },
  {
   "cell_type": "code",
   "execution_count": null,
   "metadata": {},
   "outputs": [],
   "source": [
    "from numba import jit, njit, config, __version__\n",
    "from numba.extending import overload\n",
    "import numpy as np\n",
    "assert tuple(int(x) for x in __version__.split('.')[:2]) >= (0, 44)"
   ]
  },
  {
   "cell_type": "markdown",
   "metadata": {},
   "source": [
    "Deprecated features and behaviours\n",
    "------------------\n",
    "Numba Version 0.44 is deprecating a number of features and issuing pending-deprecation notices for others. Extensive documentation including examples, recommendations and removal schedules can be [found here](http://numba.pydata.org/numba-doc/latest/reference/deprecation.html). The deprecations/pending deprecations most likely to impact your code relate to:\n",
    " * [Reflection of `List` and `Set` types](http://numba.pydata.org/numba-doc/latest/reference/deprecation.html#deprecation-of-reflection-for-list-and-set-types)\n",
    " * [Object mode _fall-back_ behaviour when using `@jit`](http://numba.pydata.org/numba-doc/latest/reference/deprecation.html#deprecation-of-object-mode-fall-back-behaviour-when-using-jit)\n",
    "\n",
    "**NOTE**: Suppressing these warnings is easy and explained along with example code [here](http://numba.pydata.org/numba-doc/latest/reference/deprecation.html#suppressing-deprecation-warnings).\n",
    " \n",
    "#### Deprecation of `List` and `Set` reflection\n",
    " \n",
    "Reflection (reflection) is the jargon used in Numba to describe the process of ensuring that changes made by compiled code to arguments that are mutable Python container data types are visible in the Python interpreter when the compiled function returns. Numba has for some time supported reflection of list and set data types and it is support for this reflection that is scheduled for deprecation with view to replace with a better implementation.\n",
    "\n",
    "Here is an example of code that would be impacted by such a change:"
   ]
  },
  {
   "cell_type": "code",
   "execution_count": null,
   "metadata": {},
   "outputs": [],
   "source": [
    "from numba import njit\n",
    "\n",
    "@njit\n",
    "def foo(x):\n",
    "  x.append(10) # changes made here need \"reflecting\" back to `a` in the outer scope\n",
    "\n",
    "a = [1, 2, 3]\n",
    "foo(a)"
   ]
  },
  {
   "cell_type": "markdown",
   "metadata": {},
   "source": [
    "#### Deprecation of object mode _fall-back_ behaviour when using `@jit`\n",
    " \n",
    "The `numba.jit` decorator has for a long time followed the behaviour of first attempting to compile the decorated function in [`nopython` mode](http://numba.pydata.org/numba-doc/latest/glossary.html#term-nopython-mode) and should this compilation fail it will _fall-back_ and try again to compile but this time in object mode. It it this _fall-back_ behaviour which is being deprecated, the result of which will be that `numba.jit` will by default compile in `nopython` mode and [`object mode`](http://numba.pydata.org/numba-doc/latest/glossary.html#term-object-mode) compilation will become _opt-in_ only.\n",
    "\n",
    "Here is an example of code that would be impacted by such a change:"
   ]
  },
  {
   "cell_type": "code",
   "execution_count": null,
   "metadata": {},
   "outputs": [],
   "source": [
    "@jit # `nopython` mode was not explicitly requested, so fall-back is permitted\n",
    "def bar():\n",
    "    l = []\n",
    "    for x in range(10):\n",
    "        l.append(x)\n",
    "    # no \"reversed\" support in nopython mode so compilation will fall-back to object mode\n",
    "    reversed(l)\n",
    "\n",
    "bar()"
   ]
  },
  {
   "cell_type": "markdown",
   "metadata": {},
   "source": [
    "#### Other deprecations\n",
    "Along with the above, some lesser used features and behaviours are being deprecated, namely:\n",
    "* [`SmartArray`](http://numba.pydata.org/numba-doc/latest/reference/deprecation.html#deprecation-of-smartarray)\n",
    "* [`NUMBAPRO` environment variables](http://numba.pydata.org/numba-doc/latest/reference/deprecation.html#deprecation-of-numbapro-environment-variables)\n",
    "* [`numba.autojit`](http://numba.pydata.org/numba-doc/latest/reference/deprecation.html#deprecation-of-numba-autojit)\n",
    "\n",
    "For developers writing Numba extensions/leveraging the Numba internal APIs, the following deprecation is made:\n",
    "* [Use of ``iternext_impl`` without a supplied ``RefType``](http://numba.pydata.org/numba-doc/latest/reference/deprecation.html#deprecation-of-iternext-impl-without-a-supplied-reftype)"
   ]
  },
  {
   "cell_type": "markdown",
   "metadata": {},
   "source": [
    "Dictionary Support Enhancements\n",
    "------------------\n",
    "Initial support for dictionaries was implemented in Version 0.43 via the \"typed\" dictionary. As a limitation of the initial work the key and value types had to be specified on construction. Numba Version 0.44 removes this restriction and implements type inference for the typed dictionary.\n",
    "\n",
    "Specifying the type still works as before:"
   ]
  },
  {
   "cell_type": "code",
   "execution_count": null,
   "metadata": {},
   "outputs": [],
   "source": [
    "from numba.typed import Dict\n",
    "from numba import int32, float32\n",
    "\n",
    "a_dictionary = Dict.empty(int32, float32)"
   ]
  },
  {
   "cell_type": "markdown",
   "metadata": {},
   "source": [
    "Type infererence also now works, whereby the type of the dictionary is inferred at compile time by how it is used:"
   ]
  },
  {
   "cell_type": "code",
   "execution_count": null,
   "metadata": {},
   "outputs": [],
   "source": [
    "@njit\n",
    "def infer_dict():\n",
    "    d1 = {}\n",
    "    d1[10] = 's' # Numba works out that d1{} is equivalent to Dict.empty(int64, unicode_type)\n",
    "    return d1\n",
    "\n",
    "d = infer_dict()\n",
    "for k, v in d.items():\n",
    "    print(\"%s:%s\" % (k, v))\n",
    "\n",
    "from numba import typeof\n",
    "print(typeof(d))"
   ]
  },
  {
   "cell_type": "markdown",
   "metadata": {},
   "source": [
    "The curly brace initialisation syntax and the `dict` reserved word are also both supported (Note: `dict()` cannot take arguments yet)."
   ]
  },
  {
   "cell_type": "code",
   "execution_count": null,
   "metadata": {},
   "outputs": [],
   "source": [
    "@njit\n",
    "def curly_braces_and_dict():\n",
    "    curly = {'a': 1.0, 'b': 2.0} # inferred as DictType[unicode_type,float64]\n",
    "    reserved = dict()\n",
    "    reserved[10] = np.zeros(5) # inferred as DictType[int64,array(float64, 1d, C)]\n",
    "    return curly, reserved\n",
    "    \n",
    "for x in curly_braces_and_dict():\n",
    "    print(typeof(x))\n",
    "    for k, v in x.items():\n",
    "        print(k, v)"
   ]
  },
  {
   "cell_type": "markdown",
   "metadata": {},
   "source": [
    "This is an update to the snake graph example from the previous release notebook, making use of the dictionary type inference enhancement, also, Version 0.44 supports unicode string iteration, so the example now makes use of that too!"
   ]
  },
  {
   "cell_type": "code",
   "execution_count": null,
   "metadata": {},
   "outputs": [],
   "source": [
    "@njit\n",
    "def snake_graph():\n",
    "    \"\"\"\n",
    "    This function creates a dictionary (str->int) and then randomly increases the integer\n",
    "    values and finally prints the results as a snake-y graph.\n",
    "    \"\"\"\n",
    "    # set up\n",
    "    x = dict() # <-- the type of x will be inferred\n",
    "    bins = \"numba\"\n",
    "    for v in bins: # <-- iterate a string directly\n",
    "        x[v] = 0 # <-- Numba works out that x is a DictType[unicode_type,int64]\n",
    "    \n",
    "    # add values to bins at random\n",
    "    it = 100\n",
    "    for i in range(it):\n",
    "        key = bins[np.random.randint(len(bins))]\n",
    "        x[key] += 1\n",
    "    \n",
    "    # iterate the key space and print a \"bar\" of snakes\n",
    "    for k in x.keys():\n",
    "        print(k + ':' + ''.join(['🐍' for _ in range(x[k])]))\n",
    "\n",
    "    return x\n",
    "        \n",
    "r = snake_graph()\n",
    "\n",
    "r"
   ]
  },
  {
   "cell_type": "markdown",
   "metadata": {},
   "source": [
    "New Unicode features\n",
    "=======\n",
    "A few more features were added to Numba's unicode support bringing complete support ever closer. The added string instance methods are:\n",
    " * `.zfill()`\n",
    " * `.ljust()`\n",
    " * `.rjust()`\n",
    " * `.center()`\n",
    " * `.strip()`\n",
    " * `.lstrip()`\n",
    " * `.rstrip()`\n",
    " \n",
    "Support for string multiplication and iteration is also added. This example includes both the new dictionary features and new string features:"
   ]
  },
  {
   "cell_type": "code",
   "execution_count": null,
   "metadata": {},
   "outputs": [],
   "source": [
    "@njit\n",
    "def decode():\n",
    "    char = '#'\n",
    "    w = 35\n",
    "    encode = [(0, 0, 0, False), (0, 0, 0, False), (17, 6, 11, False),\n",
    "              (13, 12, 9, True), (10, 15, 9, False), (8, 14, 12, False),\n",
    "              (6, 13, 15, False), (5, 26, 3, True), (3, 30, 1, True),\n",
    "              (3, 30, 1, True), (2, 31, 1, True), (3, 30, 1, True),\n",
    "              (3, 29, 2, True), (4, 27, 3, True), (8, 21, 5, True),\n",
    "              (19, 8, 7, False), (16, 9, 9, False), (14, 15, 5, False),\n",
    "              (18, 9, 7, False), (17, 7, 10, False), (16, 6, 12, False),\n",
    "              (15, 4, 15, False), (14, 3, 17, False), (13, 2, 19, False)]\n",
    "    slices = {9: '      #######       ################   ',\n",
    "              3: ' ######  ####  ',\n",
    "              10: '               #######    ####################',\n",
    "              13: '    ###########        ######## ',\n",
    "              14: '#            ########                  ',\n",
    "              11: '  ####################  ########',\n",
    "              7: '              ##########          ######',\n",
    "              8: '  #########        #############   ',\n",
    "              12: '################      #######    ',}\n",
    "    ret = dict() # newly supported dictionary use case\n",
    "    for ix, enc in enumerate(encode):\n",
    "        lpad, width, rpad, lookup = enc\n",
    "        if lookup:\n",
    "            if ix % 2:\n",
    "                s = slices[ix].strip()\n",
    "            else:\n",
    "                s = slices[ix].lstrip().rstrip()\n",
    "            buf = ' ' * lpad + s + ' ' * rpad # string multiplication\n",
    "        elif ix % 2:\n",
    "            buf = (char * width).rjust(lpad + width) # string rjust\n",
    "        else:\n",
    "            buf = ' ' * lpad + (char * width).ljust(lpad + rpad) # string ljust\n",
    "        ret[ix] = buf\n",
    "\n",
    "    title = (\"Numba \" + '.44'.zfill(4)).center(w, '~') # string zfill and center\n",
    "    newtitle = \"\"\n",
    "    for ix, t in enumerate(title): # string iteration\n",
    "        if t == '~':\n",
    "            if ix % 2:\n",
    "                newtitle += '⚡'\n",
    "            elif ix % 3:\n",
    "                newtitle += '🐍'\n",
    "            else:\n",
    "                newtitle += t\n",
    "        else:\n",
    "            newtitle += t\n",
    "    ret[0] = newtitle\n",
    "    return ret"
   ]
  },
  {
   "cell_type": "code",
   "execution_count": null,
   "metadata": {},
   "outputs": [],
   "source": [
    "for k, v in sorted(decode().items()):\n",
    "    print(k, v)"
   ]
  },
  {
   "cell_type": "markdown",
   "metadata": {},
   "source": [
    "Newly supported NumPy functions\n",
    "=====\n",
    "This release contains a number of newly supported NumPy functions:\n",
    "* Repetition of arrays: `np.repeat`\n",
    "* Deleting parts of an array: `np.delete`\n",
    "* `np.ndarray.shape` wiring for completeness: `np.shape`\n",
    "* Quantiles: `np.quantile` and `np.nanquantile`\n"
   ]
  },
  {
   "cell_type": "code",
   "execution_count": null,
   "metadata": {},
   "outputs": [],
   "source": [
    "@njit\n",
    "def numpy_new():\n",
    "\n",
    "    arr = np.array([[1,2],[3,4]])\n",
    "    \n",
    "    # np.repeat\n",
    "    repeated = np.repeat(arr, 4)\n",
    "    print(repeated)\n",
    "    \n",
    "    # np.delete\n",
    "    deleted = np.delete(repeated, 3)\n",
    "    print(deleted)\n",
    "    \n",
    "    # np.shape\n",
    "    print(np.shape(deleted))\n",
    "    \n",
    "    # np.quantile\n",
    "    print(np.quantile([1, 2, 3, 4], 0.5))\n",
    "    \n",
    "    # np.nanquantile\n",
    "    print(np.nanquantile([np.nan, 1, 2, 3, 4], 0.5))\n",
    "    \n",
    "numpy_new()"
   ]
  },
  {
   "cell_type": "markdown",
   "metadata": {},
   "source": [
    "Miscellaneous features\n",
    "===============\n",
    "Some new features were added that don't fit anywhere in particular but are still very useful. It is now possible to `.view()` a scalar NumPy type as another NumPy type of the same width, which is particularly helpful if writing low level numerical routines."
   ]
  },
  {
   "cell_type": "code",
   "execution_count": null,
   "metadata": {},
   "outputs": [],
   "source": [
    "import struct\n",
    "@njit\n",
    "def extract_fraction_float64(x):\n",
    "    \"\"\" extracts the fraction part of an IEEE754 double precision (float64) representation\n",
    "    \"\"\"\n",
    "    x_as_int = np.float64(x).view(np.uint64)\n",
    "    w = 64\n",
    "    frac_bits = 52\n",
    "    return np.uint64(x_as_int & (np.uint64(-1) >> w - frac_bits))   \n",
    "    \n",
    "val = -np.pi\n",
    "print(\"hex bits          :\", hex(struct.unpack('Q', struct.pack('d', val))[0]))\n",
    "print(\"extracted fraction:   \", hex(extract_fraction_float64(val)))"
   ]
  },
  {
   "cell_type": "markdown",
   "metadata": {},
   "source": [
    "Also, `max` and `min` now work on iterables, a small but hugely useful addition e.g."
   ]
  },
  {
   "cell_type": "code",
   "execution_count": null,
   "metadata": {},
   "outputs": [],
   "source": [
    "@njit\n",
    "def foo():\n",
    "    x = [10, 3, -4]\n",
    "    print(min(x), max(x))\n",
    "    \n",
    "foo()"
   ]
  }
 ],
 "metadata": {
  "kernelspec": {
   "display_name": "Python 3",
   "language": "python",
   "name": "python3"
  },
  "language_info": {
   "codemirror_mode": {
    "name": "ipython",
    "version": 3
   },
   "file_extension": ".py",
   "mimetype": "text/x-python",
   "name": "python",
   "nbconvert_exporter": "python",
   "pygments_lexer": "ipython3",
   "version": "3.7.3"
  }
 },
 "nbformat": 4,
 "nbformat_minor": 2
}
