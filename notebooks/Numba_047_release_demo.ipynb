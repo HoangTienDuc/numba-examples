{
 "cells": [
  {
   "cell_type": "markdown",
   "metadata": {},
   "source": [
    "Numba 0.47.0 Release Demo\n",
    "=======================\n",
    "\n",
    "This notebook contains a demonstration of new features present in the 0.47.0 release of Numba. Whilst release notes are produced as part of the [`CHANGE_LOG`](<UPDATE ME>), there's nothing like seeing code in action! This release contains a large number of exciting new features!\n",
    "\n",
    "Demonstrations of new features include:\n",
    "* [Bounds checking](#Bounds-checking)\n",
    "* [Dynamic function definition](#Dynamic-function-definition)\n",
    "* [Support for `map`, `filter` and `reduce`](#Support-for-map,-filter,-reduce)\n",
    "* [Support for `list.sort()` and `sorted` with a `key`](#Support-for-list.sort()/sorted-with-key)\n",
    "* [Initial support for `try/except`](#Initial-support-for-basic-try/except)\n",
    "* [Iteration over mixed type containers](#Iterating-over-mixed-type-containers)\n",
    "* [New NumPy function support](#Newly-supported-NumPy-functions/features)\n",
    "* [New unicode string features](#New-unicode-string-features)\n",
    "\n",
    "First, import the necessary from Numba and NumPy..."
   ]
  },
  {
   "cell_type": "code",
   "execution_count": null,
   "metadata": {},
   "outputs": [],
   "source": [
    "from numba import jit, njit, config, __version__, errors\n",
    "from numba.errors import NumbaPendingDeprecationWarning\n",
    "import warnings\n",
    "# we're going to ignore a couple of deprecation warnings\n",
    "warnings.simplefilter('ignore', category=NumbaPendingDeprecationWarning)\n",
    "from numba.extending import overload\n",
    "config.SHOW_HELP = 0\n",
    "import numba\n",
    "import numpy as np\n",
    "assert tuple(int(x) for x in __version__.split('.')[:2]) >= (0, 47)"
   ]
  },
  {
   "cell_type": "markdown",
   "metadata": {},
   "source": [
    "Bounds checking\n",
    "==============\n",
    "\n",
    "The long awaited support for bounds checking has been added in this release, the associated documentation is available [here](<LINK>). Here's a demonstration:"
   ]
  },
  {
   "cell_type": "code",
   "execution_count": null,
   "metadata": {},
   "outputs": [],
   "source": [
    "config.FULL_TRACEBACKS = 1\n",
    "@njit(boundscheck=True)\n",
    "def OOB_access(x):\n",
    "    sz = len(x)\n",
    "    a = x[0] # fine, first element of x\n",
    "    a += x[sz - 1] # fine, last element of x\n",
    "    a += x[sz] # oops, out of bounds!\n",
    "\n",
    "try:\n",
    "    OOB_access(np.ones(10))\n",
    "except IndexError as e:\n",
    "    print(type(e), e)"
   ]
  },
  {
   "cell_type": "markdown",
   "metadata": {},
   "source": [
    "The setting of `config.FULL_TRACEBACKS` ([environment variable equivalent](<LINK>)) forces the printing of the index, axis and dimension size to the terminal (assuming a terminal was used to invoke python). For example, the terminal that launched this notebook now has:\n",
    "```\n",
    "debug: IndexError: index 10 is out of bounds for axis 0 with size 10\n",
    "```\n",
    "on it. A future release will enhance this feature to include the out of bounds access information in the error message."
   ]
  },
  {
   "cell_type": "markdown",
   "metadata": {},
   "source": [
    "Dynamic function definition\n",
    "=======================\n",
    "\n",
    "The 0.47.0 release adds the following new capability to Numba: dynamic function generation. Essentially functions (closures) defined in a JIT decorated function can now \"escape\" the function they are defined in and be used as arguments in subsequent function calls. For example:"
   ]
  },
  {
   "cell_type": "code",
   "execution_count": null,
   "metadata": {},
   "outputs": [],
   "source": [
    "# takes a function and calls it with argument arg, multiplies the result by 7\n",
    "@njit\n",
    "def consumer(function, arg):\n",
    "    return function(arg) * 7\n",
    "\n",
    "_GLOBAL = 5\n",
    "\n",
    "@njit\n",
    "def generator_func():\n",
    "    _FREEVAR = 10\n",
    "\n",
    "    def escapee(x): # closure, 'a' is a local, '_FREEVAR' is a freevar, '_GLOBAL' is global\n",
    "        a = 9\n",
    "        return x * _FREEVAR + a * _GLOBAL\n",
    "\n",
    "    # data argument for the consumer call\n",
    "    x = np.arange(5)\n",
    "\n",
    "    # escapee function is passed to the consumer function along with its argument\n",
    "    return consumer(escapee, x)\n",
    "\n",
    "generator_func()\n",
    "    "
   ]
  },
  {
   "cell_type": "markdown",
   "metadata": {},
   "source": [
    "Support for `map`, `filter`, `reduce`\n",
    "============================\n",
    "\n",
    "The ability to create dynamic functions lead to being able to write support for `map`, `filter` and `reduce`. This makes it possible to write more \"pythonic\" code in Numba :-)"
   ]
  },
  {
   "cell_type": "code",
   "execution_count": null,
   "metadata": {},
   "outputs": [],
   "source": [
    "import operator\n",
    "from functools import reduce\n",
    "from numba.typed import List\n",
    "\n",
    "@njit\n",
    "def demo_map_filter_reduce():\n",
    "\n",
    "    # This will be used in map\n",
    "    def mul_n(x, multiplier):\n",
    "        return x * multiplier\n",
    "    \n",
    "    # This will be used in filter\n",
    "    V = 20\n",
    "    def greater_than_V(x):\n",
    "        return x > V # captures V from freevars\n",
    "    \n",
    "    # this will be used in reduce\n",
    "    reduce_lambda = lambda x, y: (x * 2) + y\n",
    "\n",
    "    a = [x ** 2 for x in range(10)]    \n",
    "    n = len(a)           \n",
    "    return reduce(reduce_lambda, filter(greater_than_V, map(mul_n, a, range(n))))\n",
    "\n",
    "demo_map_filter_reduce()"
   ]
  },
  {
   "cell_type": "markdown",
   "metadata": {},
   "source": [
    "Support for `list.sort()`/`sorted` with key\n",
    "=================================\n",
    "\n",
    "A further extension born from the ability to create dynamic functions was being able to support the ``key`` argument to `list.sort` and `sorted`, a quick demonstration:"
   ]
  },
  {
   "cell_type": "code",
   "execution_count": null,
   "metadata": {},
   "outputs": [],
   "source": [
    "@njit\n",
    "def demo_sort_sorted(chars):\n",
    "\n",
    "    def key(x):\n",
    "        return x.upper()\n",
    "          \n",
    "    x = chars[:]\n",
    "    x.sort()\n",
    "    print(\"sorted:\", ''.join(x))\n",
    "\n",
    "    x = chars[:]\n",
    "    x.sort(reverse=True)\n",
    "    print(\"sorted backwards:\", ''.join(x))\n",
    "\n",
    "    x = chars[:]\n",
    "    x.sort(key=key)\n",
    "    print(\"sorted key=x.upper():\", ''.join(x))\n",
    "    \n",
    "    print(\"sorted(), reversed\", ''.join(sorted(x, reverse=True)))\n",
    "    \n",
    "    def numba_order(x):\n",
    "        return 'NUMBA🐍numba⚡'.index(x)\n",
    "    \n",
    "    x = chars[:]\n",
    "    x.sort(key=numba_order)\n",
    "    print(\"sorted key=numba_order:\", ''.join(x))\n",
    "    \n",
    "# let's sort a list of characters\n",
    "input_list = ['m','M','a','N','n','u','⚡','🐍','B','b','U','A']\n",
    "demo_sort_sorted(input_list)"
   ]
  },
  {
   "cell_type": "markdown",
   "metadata": {},
   "source": [
    "Initial support for basic try/except\n",
    "============================\n",
    "\n",
    "Numba 0.47.0 has some basic support for the use of `try`/`except` in JIT compiled functions. This is a long awaited feature that has been requested many times. Support is limited at present to two use cases [docs](<LINK>)."
   ]
  },
  {
   "cell_type": "code",
   "execution_count": null,
   "metadata": {},
   "outputs": [],
   "source": [
    "@njit\n",
    "def demo_try_bare_except(a, b):\n",
    "\n",
    "    try:\n",
    "        c = a / b\n",
    "        return c\n",
    "    except:\n",
    "        print(\"caught exception\")\n",
    "        return -1\n",
    "    \n",
    "print(\"ok input:\", demo_try_bare_except(5., 10.))\n",
    "print(\"div by zero input:\", demo_try_bare_except(5, 0))"
   ]
  },
  {
   "cell_type": "markdown",
   "metadata": {},
   "source": [
    "The class `Exception` can also be caught, let's mix this with the new bounds checking support:"
   ]
  },
  {
   "cell_type": "code",
   "execution_count": null,
   "metadata": {},
   "outputs": [],
   "source": [
    "@njit(boundscheck=True)\n",
    "def demo_try_except_exception(array, index):\n",
    "\n",
    "    try:\n",
    "        return array[index]\n",
    "    except Exception:\n",
    "        print(\"caught exception\")\n",
    "        return -1\n",
    "    \n",
    "x = np.ones(5)\n",
    "print(\"ok input:\", demo_try_except_exception(x, 0))\n",
    "print(\"OOB access:\", demo_try_except_exception(x, 10))"
   ]
  },
  {
   "cell_type": "markdown",
   "metadata": {},
   "source": [
    "User defined exception classes also work:"
   ]
  },
  {
   "cell_type": "code",
   "execution_count": null,
   "metadata": {},
   "outputs": [],
   "source": [
    "class UserDefinedException(Exception):\n",
    "    def __init__(self, some_arg):\n",
    "        self._some_arg = some_arg    \n",
    "\n",
    "@njit(boundscheck=True)\n",
    "def demo_try_except_ude():\n",
    "\n",
    "    try:\n",
    "        raise UserDefinedException(123)\n",
    "    except Exception:\n",
    "        return \"caught UDE!\"\n",
    "    \n",
    "print(demo_try_except_ude())\n"
   ]
  },
  {
   "cell_type": "markdown",
   "metadata": {},
   "source": [
    "Iterating over mixed type containers\n",
    "=============================\n",
    "\n",
    "As users of Numba are very aware, Numba has to be able to work out the type of all the variables in a function to be able to compile it (function must be statically typable!). Prior to Numba 0.47.0 tuples of heterogeneous type could not be iterated over as the type of the induction variable in a loop could not be statically computed and further the loop body contents would have a different set of types of each type in the tuple. For example, this doesn't work:"
   ]
  },
  {
   "cell_type": "code",
   "execution_count": null,
   "metadata": {},
   "outputs": [],
   "source": [
    "from numba import literal_unroll\n",
    "\n",
    "@njit\n",
    "def does_not_work():\n",
    "    tup = (1, 'a', 2j)\n",
    "    for i in tup:\n",
    "        print(i) # Numba cannot work out type of `i`, it changes each loop iteration\n",
    "\n",
    "print(\"Typing problem\")\n",
    "try:\n",
    "    does_not_work()\n",
    "except errors.TypingError as e:\n",
    "    print(e)"
   ]
  },
  {
   "cell_type": "markdown",
   "metadata": {},
   "source": [
    "In Numba 0.47.0 a new function, `numba.literal_unroll`, is introduced. The function itself does nothing much, it's just a token to tell the Numba compiler that the argument needs special treatment for use as an iterable. When this function is applied in situations like in the following, the body of the loop is \"versioned\" based on the types in the tuple such that Numba can actually statically work out the types for each iteration and compilation will succeed. Here's a working version of the above failing example:"
   ]
  },
  {
   "cell_type": "code",
   "execution_count": null,
   "metadata": {},
   "outputs": [],
   "source": [
    "# use special function `numba.literal_unroll`\n",
    "@njit\n",
    "def works():\n",
    "    tup = (1, 'a', 2j)\n",
    "    for i in literal_unroll(tup):\n",
    "        print(i) # literal_unroll tells the compiler to version the loop body based on type.\n",
    "\n",
    "\n",
    "print(\"Apply literal_unroll():\")\n",
    "works()"
   ]
  },
  {
   "cell_type": "markdown",
   "metadata": {},
   "source": [
    "A more involved example might be a tuple of locally defined functions (which are all different types by virtue of the Numba type system) that are iterated over:"
   ]
  },
  {
   "cell_type": "code",
   "execution_count": null,
   "metadata": {},
   "outputs": [],
   "source": [
    "@njit\n",
    "def fruit_cookbook():\n",
    "    def get_apples(x):\n",
    "        return ['apple' for _ in range(x * 3)]\n",
    "    def get_oranges(x):\n",
    "        return ['orange' for _ in range(x * 4)]\n",
    "    def get_bananas(x):\n",
    "        return ['banana' for _ in range(x * 2)]\n",
    "\n",
    "    ingredients = (get_apples, get_oranges, get_bananas)\n",
    "    \n",
    "    def fruit_salad(scale):\n",
    "        shopping_list = []\n",
    "        for ingredient in literal_unroll(ingredients):\n",
    "            shopping_list.extend(ingredient(scale))\n",
    "        return shopping_list\n",
    "    \n",
    "    print(fruit_salad(2))\n",
    "\n",
    "fruit_cookbook()"
   ]
  },
  {
   "cell_type": "markdown",
   "metadata": {},
   "source": [
    "Finally, because Numba has string and integer literal support, it's possible to dispatch on these values at compile time and version the loop body with a value based specialisations:"
   ]
  },
  {
   "cell_type": "code",
   "execution_count": null,
   "metadata": {},
   "outputs": [],
   "source": [
    "from numba import types\n",
    "\n",
    "# function stub to overload\n",
    "def dt(value):\n",
    "    pass\n",
    "\n",
    "@overload(dt, inline='always')\n",
    "def ol_dt(li):\n",
    "    # dispatch based on a string literal\n",
    "    if isinstance(li, types.StringLiteral):\n",
    "        value = li.literal_value\n",
    "        if value == \"apple\":\n",
    "            def impl(li):\n",
    "                return 1\n",
    "        elif value == \"orange\":\n",
    "            def impl(li):\n",
    "                return 2\n",
    "        elif value == \"banana\":\n",
    "            def impl(li):\n",
    "                return 3\n",
    "        return impl\n",
    "\n",
    "    # dispatch based on an integer literal\n",
    "    elif isinstance(li, types.IntegerLiteral):\n",
    "        value = li.literal_value\n",
    "        if value == 0xca11ab1e:\n",
    "            def impl(li):\n",
    "                # close over the dispatcher :)\n",
    "                return 0x5ca1ab1e + value\n",
    "            return impl\n",
    "\n",
    "@njit\n",
    "def unroll_and_dispatch_on_literal():\n",
    "    acc = 0\n",
    "    for t in literal_unroll(('apple', 'orange', 'banana', 0xca11ab1e)):\n",
    "        acc += dt(t)\n",
    "    return acc\n",
    "\n",
    "print(unroll_and_dispatch_on_literal())"
   ]
  },
  {
   "cell_type": "markdown",
   "metadata": {},
   "source": [
    "It's hoped that in a future version of Numba the token function `literal_unroll` will not be needed and loop body versioning opportunities will be automatically identified."
   ]
  },
  {
   "cell_type": "markdown",
   "metadata": {},
   "source": [
    "Newly supported NumPy functions/features\n",
    "=====\n",
    "This release contains a number of newly supported NumPy functions, all written by contributors from the Numba community:\n",
    "\n",
    "* `np.arange` now supports the `dtype` keyword argument.\n",
    "\n",
    "* Also now supported are:\n",
    " * `np.lcm`\n",
    " * `np.gcd`\n",
    " \n",
    "A quick demo of the above:"
   ]
  },
  {
   "cell_type": "code",
   "execution_count": null,
   "metadata": {},
   "outputs": [],
   "source": [
    "@njit\n",
    "def demo_numpy():\n",
    "    a = np.arange(5, dtype=np.uint8)\n",
    "    b = np.lcm(a, 2)\n",
    "    c = np.gcd(a, 3)\n",
    "    \n",
    "    return a, b, c\n",
    "\n",
    "demo_numpy()"
   ]
  },
  {
   "cell_type": "markdown",
   "metadata": {},
   "source": [
    "New unicode string features\n",
    "=======================\n",
    "\n",
    "A large number of unicode string features/enhancements were added in 0.47.0, namely:\n",
    "\n",
    "* `str.index()`\n",
    "* `str.rindex()`\n",
    "* `start/end` parameters for `str.find()`\n",
    "* `str.rpartition()`\n",
    "* `str.lower()`\n",
    "\n",
    "and a lot of querying functions:\n",
    "* `str.isalnum()`\n",
    "* `str.isalpha()`\n",
    "* `str.isascii()`\n",
    "* `str.isidentifier()`\n",
    "* `str.islower()`\n",
    "* `str.isprintable()`\n",
    "* `str.isspace()`\n",
    "* `str.istitle()`\n"
   ]
  },
  {
   "cell_type": "code",
   "execution_count": null,
   "metadata": {},
   "outputs": [],
   "source": [
    "@njit\n",
    "def demo_string_enhancements(arg):\n",
    "    \n",
    "    print(\"index:\", arg.index(\"🐍\")) # index of snake\n",
    "    print(\"rindex:\", arg.rindex(\"🐍\")) # rindex of snake\n",
    "    print(\"find:\", arg.find(\"🐍\", start=2, end=6)) # find snake with start+end\n",
    "    print(\"rpartition:\", arg.rpartition(\"🐍\")) # rpartition snake\n",
    "    print(\"lower:\", arg.lower()) # lower snake\n",
    "\n",
    "    print(\"isalnum:\", 'abc123'.isalnum(), '🐍'.isalnum())\n",
    "    print(\"isalpha:\", 'abc'.isalpha(), '123'.isalpha())\n",
    "    print(\"isascii:\", 'abc'.isascii(), '🐍'.isascii())\n",
    "    print(\"isidentifier:\", '1'.isidentifier(), 'var'.isidentifier())\n",
    "    print(\"islower:\", 'SHOUT'.islower(), 'whisper'.islower())\n",
    "    print(\"isprintable:\", '\\x07'.isprintable(), 'BEL'.isprintable())\n",
    "    print(\"isspace:\", ' '.isspace(), '_'.isspace())\n",
    "    print(\"istitle:\", \"Titlestring\".istitle(), \"notTitlestring\".istitle())\n",
    "\n",
    "    \n",
    "arg = \"N🐍u🐍M🐍b🐍A⚡\"\n",
    "demo_string_enhancements(arg)"
   ]
  }
 ],
 "metadata": {
  "kernelspec": {
   "display_name": "Python 3",
   "language": "python",
   "name": "python3"
  },
  "language_info": {
   "codemirror_mode": {
    "name": "ipython",
    "version": 3
   },
   "file_extension": ".py",
   "mimetype": "text/x-python",
   "name": "python",
   "nbconvert_exporter": "python",
   "pygments_lexer": "ipython3",
   "version": "3.7.5"
  }
 },
 "nbformat": 4,
 "nbformat_minor": 2
}
