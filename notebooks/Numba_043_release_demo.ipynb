{
 "cells": [
  {
   "cell_type": "markdown",
   "metadata": {},
   "source": [
    "Numba 0.43.0 Release Demo\n",
    "=======================\n",
    "\n",
    "This notebook contains a demonstration of new features present in the 0.43.0 release of Numba. Whilst release notes are produced as part of the [`CHANGE_LOG`](https://github.com/numba/numba/blob/release0.43/CHANGE_LOG), there's nothing like seeing code in action!\n",
    "\n",
    "Included are demonstrations of:\n",
    "\n",
    "* Initial support for dictionaries!!!\n",
    "* `hash()` support replicating Python 3\n",
    "* `heapq` module support\n",
    "* String `.split()` and `.join()`\n",
    "* User defined exceptions with arguments\n",
    "* C structs as record arrays\n",
    "* Newly supported NumPy functions\n",
    "\n",
    "and for developers of Numba extensions, the following are demonstrated:\n",
    "* New branch pruning compiler pass to help users of `@overload`\n",
    "* `@overload` safety\n",
    "\n",
    "First, import the necessary from Numba and NumPy..."
   ]
  },
  {
   "cell_type": "code",
   "execution_count": null,
   "metadata": {},
   "outputs": [],
   "source": [
    "from numba import njit, config, __version__\n",
    "from numba.extending import overload\n",
    "import numpy as np\n",
    "assert tuple(int(x) for x in __version__.split('.')[:2]) >= (0, 43)"
   ]
  },
  {
   "cell_type": "markdown",
   "metadata": {},
   "source": [
    "Dictionary Support\n",
    "------------------\n",
    "Initial support for dictionaries has been implemented for all Python versions. This is the first round of implementation work so improvments to design and usability can be expected in future releases. Numba's dictionary implementation is a specialized dictionary for use in Numba's `nopython` mode, it behaves like a standard dictionary but dictionary operations outside of `nopython` mode are inherently slower than the equivalent on a standard dictionary. Most dictionary operations are supported and are demonstrated below...\n",
    "\n",
    "Numba dictionaries are \"typed\" (they are of a specified type that may not be altered once instantiated). First, let's create a Numba dictionary with `int32` type keys and `float32` type values:"
   ]
  },
  {
   "cell_type": "code",
   "execution_count": null,
   "metadata": {},
   "outputs": [],
   "source": [
    "from numba.typed import Dict\n",
    "from numba import int32, float32\n",
    "\n",
    "d = Dict.empty(int32, float32)"
   ]
  },
  {
   "cell_type": "markdown",
   "metadata": {},
   "source": [
    "Now let's perform some standard operations on the dictionary from Python:"
   ]
  },
  {
   "cell_type": "code",
   "execution_count": null,
   "metadata": {},
   "outputs": [],
   "source": [
    "# len\n",
    "assert len(d) ==  0\n",
    "\n",
    "# setitems\n",
    "d[1] = 1\n",
    "d[2] = 2.3\n",
    "d[3] = 3.4\n",
    "\n",
    "# print the values, note the float32 representation of the values\n",
    "print(*d.values())\n",
    "\n",
    "# popitem\n",
    "print(d.popitem())\n",
    "\n",
    "# recheck len\n",
    "assert len(d) ==  2"
   ]
  },
  {
   "cell_type": "markdown",
   "metadata": {},
   "source": [
    "and then pass this dictonary to a `nopython` mode function which mutates it. Note that Numba's `Dict` follows the behaviour of Python 3.7 dictionaries in that they are by default ordered."
   ]
  },
  {
   "cell_type": "code",
   "execution_count": null,
   "metadata": {},
   "outputs": [],
   "source": [
    "@njit\n",
    "def mutate_dict(di):\n",
    "    di[10] = 100.\n",
    "    di[2] += 7.\n",
    "    default_val = 3.14159\n",
    "    for i in range(8, 12):\n",
    "        di.setdefault(i, default_val)\n",
    "    del di[1]\n",
    "\n",
    "mutate_dict(d)\n",
    "for k, v in d.items():\n",
    "    print(k, v)"
   ]
  },
  {
   "cell_type": "markdown",
   "metadata": {},
   "source": [
    "This function does some work on a dictionary:"
   ]
  },
  {
   "cell_type": "code",
   "execution_count": null,
   "metadata": {},
   "outputs": [],
   "source": [
    "from numba.types import unicode_type, int64\n",
    "\n",
    "@njit\n",
    "def snake_graph():\n",
    "    \"\"\"\n",
    "    This function creates a dictionary (str->int) and then randomly increases the integer\n",
    "    values and finally prints the results as a snake-y graph.\n",
    "    \"\"\"\n",
    "    \n",
    "    x = Dict.empty(unicode_type, int64)\n",
    "    # set up\n",
    "    bins = ['n','u','m','b','a']\n",
    "    for v in bins:\n",
    "        x[v] = 0\n",
    "    \n",
    "    # add values to bins at random\n",
    "    it = 100\n",
    "    for i in range(it):\n",
    "        key = bins[np.random.randint(len(bins))]\n",
    "        x[key] += 1\n",
    "    \n",
    "    # iterate the key space and print a \"bar\" of snakes\n",
    "    for k in x.keys():\n",
    "        print(k + ':' + ''.join(['🐍' for _ in range(x[k])]))\n",
    "\n",
    "    return x\n",
    "        \n",
    "r = snake_graph()\n",
    "\n",
    "r"
   ]
  },
  {
   "cell_type": "markdown",
   "metadata": {},
   "source": [
    "Hashing\n",
    "=======\n",
    "A necessary side effect of dictionary support was the requirement for `__hash__()` to work for the hashable Numba types. The implementations present in Numba replicate the hashing behaviour found in Python 3 (even when running with Python 2!) and also acknowledge the `PYTHONHASHSEED` as needed. A few examples:"
   ]
  },
  {
   "cell_type": "code",
   "execution_count": null,
   "metadata": {},
   "outputs": [],
   "source": [
    "def hash_things():\n",
    "    things = [100, 2**61 + 2, 1.7, 2j, -1]\n",
    "    print(100, hash(100))\n",
    "    print(2**61 + 2, hash(2**61 + 2)) # wrap around in hashing!\n",
    "    print(3.14159, hash(3.14159))\n",
    "    print(2j, hash(2j))\n",
    "    print(-1, hash(-1)) # magic -1\n",
    "\n",
    "    unicode_things = ['Numba', 'is', '🐍⚡']\n",
    "    for val in unicode_things:\n",
    "        print(val, hash(val))\n",
    "\n",
    "hash_things()"
   ]
  },
  {
   "cell_type": "code",
   "execution_count": null,
   "metadata": {},
   "outputs": [],
   "source": [
    "njit(hash_things)()"
   ]
  },
  {
   "cell_type": "markdown",
   "metadata": {},
   "source": [
    "For those developing Numba extensions, documentation on hashing can be found [here](http://numba.pydata.org/numba-doc/dev/developer/hashing.html). It is possible to override the default hashing implementations for a type and also implement a hash algorithm for custom types by simply overloading the type's `__hash__` method."
   ]
  },
  {
   "cell_type": "markdown",
   "metadata": {},
   "source": [
    "Support for `heapq` \n",
    "===============\n",
    "Numba 0.43 has support for the built in `heapq` module (everything except `heapq.merge`). A quick demonstration based on the example code from [the CPython documentation](https://docs.python.org/3/library/heapq.html#basic-examples)."
   ]
  },
  {
   "cell_type": "code",
   "execution_count": null,
   "metadata": {},
   "outputs": [],
   "source": [
    "from heapq import heappush, heappop\n",
    "@njit\n",
    "def heapsort(iterable):\n",
    "    # method to seed the type of the list\n",
    "    ty = iterable[0]\n",
    "    h = [ty for _ in range(0)]\n",
    "    for value in iterable:\n",
    "        heappush(h, value)\n",
    "    return [heappop(h) for i in range(len(h))]\n",
    "\n",
    "heapsort([1, 3, 5, 7, 9, 2, 4, 6, 8, 0])"
   ]
  },
  {
   "cell_type": "markdown",
   "metadata": {},
   "source": [
    "String enhancements\n",
    "==================\n",
    "Numba's string processing support now includes the `.split()` and `.join()` methods, including the use of `sep` and `maxsplit`."
   ]
  },
  {
   "cell_type": "code",
   "execution_count": null,
   "metadata": {},
   "outputs": [],
   "source": [
    "@njit\n",
    "def split_and_join(string):\n",
    "    celebrate = '🎉'.join(\"🎆\".join(\"🎇🎇🎇\"))\n",
    "    return ('⚡'.join(string.split('🐍')) + \" .split() and .join()\").join([celebrate, celebrate])\n",
    "\n",
    "split_and_join(\"n🐍u🐍m🐍b🐍a\")"
   ]
  },
  {
   "cell_type": "markdown",
   "metadata": {},
   "source": [
    "User defined exceptions with arguments\n",
    "=================================\n",
    "User defined exceptions with arguments are now supported in `nopython` mode, for example:"
   ]
  },
  {
   "cell_type": "code",
   "execution_count": null,
   "metadata": {},
   "outputs": [],
   "source": [
    "class UDE(Exception):\n",
    "    def __init__(self, arg_for_super, value):\n",
    "        super(UDE, self).__init__(arg_for_super)\n",
    "        self.value = value\n",
    "\n",
    "    def __str__(self):\n",
    "        return \"%s. Custom value: %s\" % (super(UDE, self).__str__(), self.value)\n",
    "\n",
    "@njit\n",
    "def raise_ude():\n",
    "    raise UDE('Some error message', 10)\n",
    "\n",
    "try:\n",
    "    raise_ude()\n",
    "except Exception as e:\n",
    "    print(e)"
   ]
  },
  {
   "cell_type": "markdown",
   "metadata": {},
   "source": [
    "Accessing C structs as record arrays\n",
    "==============================\n",
    "C structures can now be mapped directly to NumPy record types (structured `dtype`). The following demonstrates (it is a slightly modified version of [this example](https://github.com/numba/numba/blob/aa429a8a656f3b0c0e9d942cd4ce87616c515774/examples/notebooks/Accessing%20C%20Struct%20Data.ipynb), interested users should take a look at both):"
   ]
  },
  {
   "cell_type": "code",
   "execution_count": null,
   "metadata": {},
   "outputs": [],
   "source": [
    "from cffi import FFI\n",
    "from numba import cffi_support\n",
    "from numba import cfunc, carray\n",
    "\n",
    "src = \"\"\"\n",
    "/* Define the C struct */\n",
    "typedef struct my_struct {\n",
    "    int    i1;\n",
    "    double d[4];\n",
    "} my_struct;\n",
    "\n",
    "/* Define a callback function */\n",
    "typedef double (*my_func)(my_struct*, size_t);\n",
    "\"\"\"\n",
    "ffi = FFI()\n",
    "ffi.cdef(src)\n",
    "\n",
    "d_len = 4 # there are 4 values in the my_struct.d\n",
    "\n",
    "# Make an array of 2 my_struct\n",
    "mydata = ffi.new('my_struct[2]')\n",
    "ptr = ffi.cast('my_struct*', mydata)\n",
    "for i in range(2):\n",
    "    ptr[i].i1 = 123 + i\n",
    "    for j in range(d_len):\n",
    "        ptr[i].d[j] = i + 100 * (1 + j)\n",
    "\n",
    "# map the type to a Numba record type and use it in a `@cfunc`\n",
    "sig = cffi_support.map_type(ffi.typeof('my_func'), use_record_dtype=True)\n",
    "\n",
    "@cfunc(sig)\n",
    "def foo(ptr, n):\n",
    "    base = carray(ptr, n)  # view pointer as an array of my_struct\n",
    "    tmp = 0\n",
    "    for i in range(n):\n",
    "        acc = 0\n",
    "        for j in range(d_len):\n",
    "            acc += base[i].d[j]\n",
    "        tmp += acc / (base[i].i1 + 1)\n",
    "    return tmp\n",
    "\n",
    "# Test using the .ctypes callable\n",
    "addr = int(ffi.cast('size_t', ptr)) # get the address of the `mydata` array of structs\n",
    "result = foo.ctypes(addr, 2) # array of structs is 2 long\n",
    "print(result)"
   ]
  },
  {
   "cell_type": "markdown",
   "metadata": {},
   "source": [
    "Newly supported NumPy functions\n",
    "------\n",
    "This release contains a number of newly supported NumPy functions:\n",
    "* Construction of arrays: `asarray`\n",
    "* Peak to Peak: `ptp`\n",
    "* Rolling of array elements: `roll`\n",
    "* Conditional extraction: `extract`\n",
    "* Integration and interpolation functions: `trapz`, `interp`\n",
    "\n",
    "and broadcasting has been added to the in `np.where` implementation.\n"
   ]
  },
  {
   "cell_type": "code",
   "execution_count": null,
   "metadata": {},
   "outputs": [],
   "source": [
    "@njit\n",
    "def numpy_new():\n",
    "    # construct an array from a list, tuple, scalar with np.asarray\n",
    "    from_list = np.asarray([1, 2, 3])\n",
    "    from_tuple = np.asarray((1j, 2j, 3j))\n",
    "    from_scalar = np.asarray(11.4)\n",
    "    from_bool = np.asarray(False)\n",
    "    print(\"asarray:\", from_list / from_scalar + from_tuple + from_bool)\n",
    "    \n",
    "    # np.ptp\n",
    "    print(\"\\nptp one cycle of cosine\", np.ptp(np.cos(np.linspace(0, 2 * np.pi, 1000))))\n",
    "    \n",
    "    # np.roll\n",
    "    print(\"\\nroll forwards  2\", np.roll(np.arange(7), 2))\n",
    "    print(\"roll backwards 3\", np.roll(np.arange(7), -3))\n",
    "    \n",
    "    # np.extract\n",
    "    print(\"\\nextract odd indexes\", np.extract(np.arange(8) % 2, np.arange(8)))\n",
    "    \n",
    "    # np.trapz\n",
    "    x = np.linspace(0, np.pi, 1000)\n",
    "    print(\"\\nintegral of a half cycle of sine\", np.trapz(np.sin(x), x))\n",
    "\n",
    "    # np.interp\n",
    "    x = np.linspace(0, 2 * np.pi, 1000)\n",
    "    y = np.cos(x)\n",
    "    x_i = np.random.uniform(0, 2 * np.pi, (4,))\n",
    "    print(\"\\ninterpolate along one cycle of cosine\", np.interp(x_i, x, y))\n",
    "    print(\"                        direct result\", np.cos(x_i))\n",
    "    \n",
    "    # np.where\n",
    "    tmp = np.arange(-16, 16).reshape(4, 8)\n",
    "    mask = np.where(tmp > 0, 1, 0) \n",
    "    print(\"\\nbroadcast condition:\\n\", mask)\n",
    "    \n",
    "numpy_new()"
   ]
  },
  {
   "cell_type": "markdown",
   "metadata": {},
   "source": [
    "For Developers\n",
    "=============\n",
    "\n",
    "For developers using Numba to accelerate their libraries, two new features have been added to the `@overload` decorator. The first makes it such that it is considerably harder to have a mismatch between the declared typing and implementing signatures. For example:"
   ]
  },
  {
   "cell_type": "code",
   "execution_count": null,
   "metadata": {},
   "outputs": [],
   "source": [
    "from numba.extending import overload\n",
    "from numba import errors\n",
    "\n",
    "def myfoo(a, b, k=7):\n",
    "    pass\n",
    "\n",
    "@overload(myfoo)\n",
    "def _myfoo(a, b, k=7):\n",
    "    def impl(a, b, k=12): # oops, different default value in the implementation detail\n",
    "        pass\n",
    "    return impl\n",
    "\n",
    "@njit\n",
    "def use_foo():\n",
    "    print(myfoo(1, 2, 3))\n",
    "    \n",
    "try:\n",
    "    use_foo()\n",
    "except errors.TypingError as e:\n",
    "    print(\"Showing error for demonstration purposes:\\n\")\n",
    "    print('-' * 80)\n",
    "    print(e)\n",
    "    print('-' * 80)"
   ]
  },
  {
   "cell_type": "markdown",
   "metadata": {},
   "source": [
    "The second addition is a new compiler pass that prunes (removes) branches that can be computed as dead at compile time. This has been added to make it possible to avoid the, somewhat awkward but necessary, pattern required to handle `None`-like arguments. For example:"
   ]
  },
  {
   "cell_type": "code",
   "execution_count": null,
   "metadata": {},
   "outputs": [],
   "source": [
    "from numba import types, config\n",
    "\n",
    "# 1. want to write an overload for this...\n",
    "# def python_mybar(a, b=None):\n",
    "#    if b is None:\n",
    "#        return a\n",
    "#    else:\n",
    "#        return a + b\n",
    "\n",
    "def python_mybar(a, b=None):\n",
    "    pass\n",
    "\n",
    "# 2. used to have to write this... to handle `None`\n",
    "# @overload(python_mybar)\n",
    "# def _mybar(a, b=None):\n",
    "#    if b is None or isinstance(b, types.NoneType) or getattr(b, 'value', False) is None:\n",
    "#       def impl(a, b=None):\n",
    "#            return a\n",
    "#    else:\n",
    "#        def impl(a, b=None):\n",
    "#            return a + b\n",
    "#    return impl\n",
    "\n",
    "# 3. but now this just works...\n",
    "@overload(python_mybar)\n",
    "def _new_mybar(a, b=None):\n",
    "    def impl(a, b=None):\n",
    "        if b is None:\n",
    "            return a\n",
    "        else:\n",
    "            return a + b\n",
    "    return impl\n",
    "\n",
    "@njit\n",
    "def use_bar():\n",
    "    print(python_mybar(1, None))\n",
    "    print(python_mybar(1, 2))\n",
    "    \n",
    "use_bar()"
   ]
  }
 ],
 "metadata": {
  "kernelspec": {
   "display_name": "Python 3",
   "language": "python",
   "name": "python3"
  },
  "language_info": {
   "codemirror_mode": {
    "name": "ipython",
    "version": 3
   },
   "file_extension": ".py",
   "mimetype": "text/x-python",
   "name": "python",
   "nbconvert_exporter": "python",
   "pygments_lexer": "ipython3",
   "version": "3.7.1"
  }
 },
 "nbformat": 4,
 "nbformat_minor": 2
}
